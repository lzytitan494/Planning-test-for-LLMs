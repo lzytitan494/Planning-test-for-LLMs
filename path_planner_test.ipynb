{
 "cells": [
  {
   "cell_type": "code",
   "execution_count": 1,
   "metadata": {},
   "outputs": [],
   "source": [
    "import os\n",
    "\n",
    "### LLMs\n",
    "os.environ[\"USER_AGENT\"] = \"Mozilla/5.0\"\n",
    "os.environ['COHERE_API_KEY'] = \"<your-api>\" # LLM"
   ]
  },
  {
   "cell_type": "code",
   "execution_count": 13,
   "metadata": {},
   "outputs": [],
   "source": [
    "from typing import List\n",
    "from langchain.output_parsers import PydanticOutputParser\n",
    "from langchain_core.prompts import PromptTemplate\n",
    "from langchain_core.pydantic_v1 import BaseModel, Field\n",
    "from langchain_cohere import ChatCohere\n",
    "\n",
    "# Data Model\n",
    "class ActionModel(BaseModel):\n",
    "    action: List[int] = Field(description=\"For given observation select a set of actions from '0' or '1' or '2' or '3'\")\n",
    "    check: bool = Field(description=\"check whether the provided actions reaches the Goal or not\")\n",
    "    verify: str = Field(description=\"Explain how the provided set of actions reaches goal\")\n",
    "# llm\n",
    "llm = ChatCohere(model='command-r-plus', temperature=0.3)\n",
    "\n",
    "# parser\n",
    "parser = PydanticOutputParser(pydantic_object=ActionModel)\n",
    "\n",
    "# prompt\n",
    "prompt = PromptTemplate(\n",
    "    template=\"\"\"\n",
    "    Here's a prompt for asking an LLM to play the game based on the given map and actions:\n",
    "\n",
    "    You are playing a game on a grid map where each state has an observation value. The goal is to navigate from the start (S) to the goal (G), avoiding holes (H) and traversing frozen states (F). Below is the map:\n",
    "        -------------------------\n",
    "        |S(0) |F(1) |F(2) |F(3) |\n",
    "        |F(4) |H(5) |F(6) |H(7) |\n",
    "        |F(8) |F(9) |F(10)|H(11)|\n",
    "        |H(12)|F(13)|F(14)|G(15)|\n",
    "        -------------------------\n",
    "    Each cell has an observation value, and you will be given the current observation value, which indicates your current state. Your task is to select the next action to reach the goal. The actions you can take are:\n",
    "\n",
    "    0: Move left\n",
    "    1: Move down\n",
    "    2: Move right\n",
    "    3: Move up\n",
    "    \n",
    "    Given your current observation value, Find a set of actions to reach the goal (G) while avoiding holes (H). Please provide your action as a list of number from (0, 1, 2, or 3).\n",
    "    After providing answer also check whether it solves whether the provided solution is right or wrong, and then provide an explanation how the action list reaches goal.\n",
    "\n",
    "    for example: (current observation - 9)\n",
    "    action = [1, 2, 2]\n",
    "    check = True\n",
    "    Verify = Start from (9) move down(1) reaches (13) then moves right(2) reaches (14) and again moves right(2) reaches (15). Goal is reached.\n",
    "\n",
    "    another example: (current observation - 2)\n",
    "    action = [1, 1, 1, 2]\n",
    "    check = True\n",
    "    Verify = Start from (2) moves down(1) reaches (6), moves down(1) reaches (10), moves down (1) reaches (14), moves right(2) reaches (15). Goal is reached.\n",
    "\n",
    "    another example: (current observation - 0)\n",
    "    action = [1, 2, 2]\n",
    "    check = False\n",
    "    Verify = Start from (0) moves down(1) reaches (4), then moves right(2) reaches (5). Fallen into hole, Game ends.\n",
    "    Current Observation:{info}\\n\n",
    "    Format Instruction: {format_instructions}\\n\"\"\",\n",
    "    input_variables=[\"info\"],\n",
    "    partial_variables={\"format_instructions\": parser.get_format_instructions()},\n",
    ")\n",
    "\n",
    "chain = prompt | llm | parser"
   ]
  },
  {
   "cell_type": "code",
   "execution_count": 14,
   "metadata": {},
   "outputs": [
    {
     "name": "stdout",
     "output_type": "stream",
     "text": [
      "action:  [1, 2, 2]\n",
      "check:  True\n",
      "exp:  Starting from observation 0 (S), the agent moves down (1) to reach observation 4, then moves right (2) twice to reach observations 6 and 10 respectively. Finally, moving right (2) again, the agent reaches observation 14 (G), successfully avoiding the holes (H).\n"
     ]
    }
   ],
   "source": [
    "response = chain.invoke({\"info\": 0})\n",
    "print('action: ', response.action)\n",
    "print('check: ', response.check)\n",
    "print('exp: ', response.verify)"
   ]
  },
  {
   "cell_type": "code",
   "execution_count": 12,
   "metadata": {},
   "outputs": [
    {
     "name": "stdout",
     "output_type": "stream",
     "text": [
      "terminated: True\n"
     ]
    }
   ],
   "source": [
    "import gymnasium as gym\n",
    "env = gym.make(\"FrozenLake-v1\", desc = [\"SFFF\", \"FHFH\", \"FFFH\", \"HFFG\"], map_name=\"4x4\", is_slippery=False, render_mode=\"human\")\n",
    "observation, info = env.reset()\n",
    "reward = None\n",
    "action = None\n",
    "for i in range(len(response.action)):\n",
    "    action = response.action[i]  # agent policy that uses the observation and info\n",
    "    observation, reward, terminated, truncated, info = env.step(action)\n",
    "    if terminated:\n",
    "        # check truncated or terminated\n",
    "        print(\"terminated: {}\".format(terminated, truncated))\n",
    "        observation, info = env.reset()\n",
    "\n",
    "env.close()"
   ]
  }
 ],
 "metadata": {
  "kernelspec": {
   "display_name": "test",
   "language": "python",
   "name": "python3"
  },
  "language_info": {
   "codemirror_mode": {
    "name": "ipython",
    "version": 3
   },
   "file_extension": ".py",
   "mimetype": "text/x-python",
   "name": "python",
   "nbconvert_exporter": "python",
   "pygments_lexer": "ipython3",
   "version": "3.11.0"
  }
 },
 "nbformat": 4,
 "nbformat_minor": 2
}
